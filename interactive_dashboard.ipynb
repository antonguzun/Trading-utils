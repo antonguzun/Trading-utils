{
 "cells": [
  {
   "cell_type": "markdown",
   "id": "34c35f2d",
   "metadata": {},
   "source": [
    "# Enhanced Covered-Call Analyzer\n",
    "Use the widgets below to explore covered call outcomes."
   ]
  },
  {
   "cell_type": "code",
   "execution_count": null,
   "id": "8d4b0e38",
   "metadata": {},
   "outputs": [],
   "source": [
    "import numpy as np\n",
    "import ipywidgets as widgets\n",
    "\n",
    "from payoff_plot import plot_payoff\n",
    "from scenario_table import make_scenarios\n",
    "from option_greeks import call_greeks\n",
    "from monte_carlo import simulate, stats, plot_hist\n",
    "from margin_call import margin_call_price\n"
   ]
  },
  {
   "cell_type": "code",
   "execution_count": null,
   "id": "f089a70f",
   "metadata": {},
   "outputs": [],
   "source": [
    "\n",
    "shares = widgets.IntSlider(value=100, min=100, max=1000, step=100, description='Shares')\n",
    "stock = widgets.FloatSlider(value=50.0, min=10, max=100, step=1, description='Stock')\n",
    "strike = widgets.FloatSlider(value=55.0, min=10, max=100, step=1, description='Strike')\n",
    "prem = widgets.FloatSlider(value=2.0, min=0.1, max=10, step=0.1, description='Premium')\n",
    "vol = widgets.FloatSlider(value=0.2, min=0.05, max=1.0, step=0.05, description='Sigma')\n",
    "mu = widgets.FloatSlider(value=0.1, min=-0.2, max=0.2, step=0.01, description='Mu')\n",
    "\n",
    "\n",
    "def update(_=None):\n",
    "    prices = np.linspace(stock.value * 0.5, stock.value * 1.5, 50)\n",
    "    plot_payoff(stock.value, strike.value, prem.value, prices)\n",
    "    df = make_scenarios([stock.value * 0.8, strike.value, stock.value * 1.2], stock.value, strike.value, prem.value)\n",
    "    display(df)\n",
    "    g = call_greeks(stock.value, strike.value, 0.01, vol.value, 0.5)\n",
    "    display(g)\n",
    "    sims = simulate(stock.value, mu.value, vol.value, strike.value, prem.value, 0.5, 5000)\n",
    "    display(stats(sims))\n",
    "    plot_hist(sims)\n",
    "\n",
    "for w in (shares, stock, strike, prem, vol, mu):\n",
    "    w.observe(update, 'value')\n",
    "\n",
    "widgets.VBox([shares, stock, strike, prem, vol, mu])\n"
   ]
  }
 ],
 "metadata": {},
 "nbformat": 4,
 "nbformat_minor": 5
}
